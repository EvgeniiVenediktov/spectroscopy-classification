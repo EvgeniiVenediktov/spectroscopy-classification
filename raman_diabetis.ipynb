{
 "cells": [
  {
   "cell_type": "code",
   "execution_count": 1,
   "metadata": {},
   "outputs": [],
   "source": [
    "import numpy as np\n",
    "import pandas as pd\n",
    "import matplotlib.pyplot as plt\n",
    "import torch\n",
    "from torch import nn\n",
    "from sklearn.model_selection import KFold"
   ]
  },
  {
   "cell_type": "markdown",
   "metadata": {},
   "source": [
    "https://github.com/christianversloot/machine-learning-articles/blob/main/how-to-use-k-fold-cross-validation-with-pytorch.md"
   ]
  },
  {
   "cell_type": "code",
   "execution_count": 2,
   "metadata": {},
   "outputs": [],
   "source": [
    "RAMAN_DATASET_PATH = \"./data/raman_diabetis_spectroscopy/\"\n",
    "XENON_DATASET_PATH = \"./data/xenon/\""
   ]
  },
  {
   "cell_type": "code",
   "execution_count": 3,
   "metadata": {},
   "outputs": [],
   "source": [
    "dset_name = 'vein'\n",
    "d = pd.read_csv(RAMAN_DATASET_PATH+dset_name+'.csv')\n",
    "d = d.iloc[1:,:]\n",
    "y = d.iloc[:,1].astype(int)\n",
    "X = d.iloc[:,800:1800]\n",
    "means = X.mean(0).to_frame().T\n",
    "means = means._append([means]*20, ignore_index=True).iloc[1:]\n",
    "X = X - means"
   ]
  },
  {
   "cell_type": "code",
   "execution_count": 4,
   "metadata": {},
   "outputs": [],
   "source": [
    "X_neg, y_neg = X[y==0], y[y==0]\n",
    "X_pos, y_pos = X[y==1], y[y==1]\n"
   ]
  },
  {
   "cell_type": "code",
   "execution_count": 5,
   "metadata": {},
   "outputs": [],
   "source": [
    "class MLP(nn.Module):\n",
    "    def __init__(self):\n",
    "        super.__init__()\n",
    "        self.layers = nn.Sequential(\n",
    "            nn.Linear(1000, 14),\n",
    "            nn.ReLU(),\n",
    "            nn.Linear(14, 2)\n",
    "        )\n",
    "    \n",
    "    def forward(self, x):\n",
    "        return self.layers(x)"
   ]
  },
  {
   "cell_type": "code",
   "execution_count": 24,
   "metadata": {},
   "outputs": [
    {
     "name": "stdout",
     "output_type": "stream",
     "text": [
      "[ 1  2  4  5  6  7  9 10] [0 3 8] [11 12 13 15 16 17 19] [14 18]\n",
      "[ 1  2  4  5  6  7  9 10] [0 3 8] [11 12 13 14 16 17 18] [15 19]\n",
      "[ 1  2  4  5  6  7  9 10] [0 3 8] [12 13 14 15 17 18 19] [11 16]\n",
      "[ 1  2  4  5  6  7  9 10] [0 3 8] [11 14 15 16 17 18 19] [12 13]\n",
      "[ 1  2  4  5  6  7  9 10] [0 3 8] [11 12 13 14 15 16 18 19] [17]\n",
      "[ 0  1  2  3  5  7  8  9 10] [4 6] [11 12 14 15 16 17 18] [13 19]\n",
      "[ 0  1  2  3  5  7  8  9 10] [4 6] [11 12 13 14 16 18 19] [15 17]\n",
      "[ 0  1  2  3  5  7  8  9 10] [4 6] [11 13 14 15 16 17 19] [12 18]\n",
      "[ 0  1  2  3  5  7  8  9 10] [4 6] [11 12 13 15 17 18 19] [14 16]\n",
      "[ 0  1  2  3  5  7  8  9 10] [4 6] [12 13 14 15 16 17 18 19] [11]\n",
      "[ 0  2  3  4  5  6  7  8 10] [1 9] [11 12 13 14 15 16 19] [17 18]\n",
      "[ 0  2  3  4  5  6  7  8 10] [1 9] [11 12 13 14 16 17 18] [15 19]\n",
      "[ 0  2  3  4  5  6  7  8 10] [1 9] [12 14 15 16 17 18 19] [11 13]\n",
      "[ 0  2  3  4  5  6  7  8 10] [1 9] [11 13 14 15 17 18 19] [12 16]\n",
      "[ 0  2  3  4  5  6  7  8 10] [1 9] [11 12 13 15 16 17 18 19] [14]\n",
      "[ 0  1  3  4  5  6  8  9 10] [2 7] [11 12 13 15 16 17 18] [14 19]\n",
      "[ 0  1  3  4  5  6  8  9 10] [2 7] [11 12 14 15 16 18 19] [13 17]\n",
      "[ 0  1  3  4  5  6  8  9 10] [2 7] [11 12 13 14 16 17 19] [15 18]\n",
      "[ 0  1  3  4  5  6  8  9 10] [2 7] [12 13 14 15 17 18 19] [11 16]\n",
      "[ 0  1  3  4  5  6  8  9 10] [2 7] [11 13 14 15 16 17 18 19] [12]\n",
      "[0 1 2 3 4 6 7 8 9] [ 5 10] [11 12 13 14 15 17 19] [16 18]\n",
      "[0 1 2 3 4 6 7 8 9] [ 5 10] [11 13 15 16 17 18 19] [12 14]\n",
      "[0 1 2 3 4 6 7 8 9] [ 5 10] [11 12 14 16 17 18 19] [13 15]\n",
      "[0 1 2 3 4 6 7 8 9] [ 5 10] [12 13 14 15 16 17 18] [11 19]\n",
      "[0 1 2 3 4 6 7 8 9] [ 5 10] [11 12 13 14 15 16 18 19] [17]\n"
     ]
    }
   ],
   "source": [
    "n = 5\n",
    "kf1 = KFold(n_splits=n, shuffle=True)\n",
    "kf2 = KFold(n_splits=n, shuffle=True)\n",
    "c = len(X_pos)\n",
    "for train_pos, test_pos in kf1.split(X_pos):\n",
    "    for train_neg, test_neg in kf2.split(X_neg):\n",
    "        print(\"%s %s %s %s\" % (train_pos, test_pos, train_neg+c, test_neg+c))"
   ]
  }
 ],
 "metadata": {
  "kernelspec": {
   "display_name": "Python 3",
   "language": "python",
   "name": "python3"
  },
  "language_info": {
   "codemirror_mode": {
    "name": "ipython",
    "version": 3
   },
   "file_extension": ".py",
   "mimetype": "text/x-python",
   "name": "python",
   "nbconvert_exporter": "python",
   "pygments_lexer": "ipython3",
   "version": "3.11.0"
  }
 },
 "nbformat": 4,
 "nbformat_minor": 2
}
