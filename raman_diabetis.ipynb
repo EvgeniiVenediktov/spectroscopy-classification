{
 "cells": [
  {
   "cell_type": "code",
   "execution_count": 29,
   "metadata": {},
   "outputs": [],
   "source": [
    "import numpy as np\n",
    "import pandas as pd\n",
    "import matplotlib.pyplot as plt\n",
    "import torch\n",
    "from torch import nn\n",
    "from sklearn.model_selection import KFold"
   ]
  },
  {
   "cell_type": "markdown",
   "metadata": {},
   "source": [
    "https://github.com/christianversloot/machine-learning-articles/blob/main/how-to-use-k-fold-cross-validation-with-pytorch.md"
   ]
  },
  {
   "cell_type": "code",
   "execution_count": 10,
   "metadata": {},
   "outputs": [],
   "source": [
    "RAMAN_DATASET_PATH = \"./data/raman_diabetis_spectroscopy/\"\n",
    "XENON_DATASET_PATH = \"./data/xenon/\""
   ]
  },
  {
   "cell_type": "code",
   "execution_count": 86,
   "metadata": {},
   "outputs": [],
   "source": [
    "dset_name = 'vein'\n",
    "d = pd.read_csv(RAMAN_DATASET_PATH+dset_name+'.csv')\n",
    "d = d.iloc[1:,:]\n",
    "y = d.iloc[:,1].astype(int)\n",
    "X = d.iloc[:,800:1800]\n",
    "means = X.mean(0).to_frame().T\n",
    "means = means._append([means]*20, ignore_index=True).iloc[1:]\n",
    "X = X - means"
   ]
  },
  {
   "cell_type": "code",
   "execution_count": 90,
   "metadata": {},
   "outputs": [],
   "source": [
    "X_neg, y_neg = X[y==0], y[y==0]\n",
    "X_pos, y_pos = X[y==1], y[y==1]\n"
   ]
  },
  {
   "cell_type": "code",
   "execution_count": 30,
   "metadata": {},
   "outputs": [],
   "source": [
    "class MLP(nn.Module):\n",
    "    def __init__(self):\n",
    "        super.__init__()\n",
    "        self.layers = nn.Sequential(\n",
    "            nn.Linear(1000, 14),\n",
    "            nn.ReLU(),\n",
    "            nn.Linear(14, 2)\n",
    "        )\n",
    "    \n",
    "    def forward(self, x):\n",
    "        return self.layers(x)"
   ]
  },
  {
   "cell_type": "code",
   "execution_count": 96,
   "metadata": {},
   "outputs": [
    {
     "name": "stdout",
     "output_type": "stream",
     "text": [
      "[ 3  4  5  6  7  8  9 10] [0 1 2] [2 3 4 5 6 7 8] [0 1]\n",
      "[ 3  4  5  6  7  8  9 10] [0 1 2] [0 1 4 5 6 7 8] [2 3]\n",
      "[ 3  4  5  6  7  8  9 10] [0 1 2] [0 1 2 3 6 7 8] [4 5]\n",
      "[ 3  4  5  6  7  8  9 10] [0 1 2] [0 1 2 3 4 5 8] [6 7]\n",
      "[ 3  4  5  6  7  8  9 10] [0 1 2] [0 1 2 3 4 5 6 7] [8]\n",
      "[ 0  1  2  5  6  7  8  9 10] [3 4] [2 3 4 5 6 7 8] [0 1]\n",
      "[ 0  1  2  5  6  7  8  9 10] [3 4] [0 1 4 5 6 7 8] [2 3]\n",
      "[ 0  1  2  5  6  7  8  9 10] [3 4] [0 1 2 3 6 7 8] [4 5]\n",
      "[ 0  1  2  5  6  7  8  9 10] [3 4] [0 1 2 3 4 5 8] [6 7]\n",
      "[ 0  1  2  5  6  7  8  9 10] [3 4] [0 1 2 3 4 5 6 7] [8]\n",
      "[ 0  1  2  3  4  7  8  9 10] [5 6] [2 3 4 5 6 7 8] [0 1]\n",
      "[ 0  1  2  3  4  7  8  9 10] [5 6] [0 1 4 5 6 7 8] [2 3]\n",
      "[ 0  1  2  3  4  7  8  9 10] [5 6] [0 1 2 3 6 7 8] [4 5]\n",
      "[ 0  1  2  3  4  7  8  9 10] [5 6] [0 1 2 3 4 5 8] [6 7]\n",
      "[ 0  1  2  3  4  7  8  9 10] [5 6] [0 1 2 3 4 5 6 7] [8]\n",
      "[ 0  1  2  3  4  5  6  9 10] [7 8] [2 3 4 5 6 7 8] [0 1]\n",
      "[ 0  1  2  3  4  5  6  9 10] [7 8] [0 1 4 5 6 7 8] [2 3]\n",
      "[ 0  1  2  3  4  5  6  9 10] [7 8] [0 1 2 3 6 7 8] [4 5]\n",
      "[ 0  1  2  3  4  5  6  9 10] [7 8] [0 1 2 3 4 5 8] [6 7]\n",
      "[ 0  1  2  3  4  5  6  9 10] [7 8] [0 1 2 3 4 5 6 7] [8]\n",
      "[0 1 2 3 4 5 6 7 8] [ 9 10] [2 3 4 5 6 7 8] [0 1]\n",
      "[0 1 2 3 4 5 6 7 8] [ 9 10] [0 1 4 5 6 7 8] [2 3]\n",
      "[0 1 2 3 4 5 6 7 8] [ 9 10] [0 1 2 3 6 7 8] [4 5]\n",
      "[0 1 2 3 4 5 6 7 8] [ 9 10] [0 1 2 3 4 5 8] [6 7]\n",
      "[0 1 2 3 4 5 6 7 8] [ 9 10] [0 1 2 3 4 5 6 7] [8]\n"
     ]
    }
   ],
   "source": [
    "n = 5\n",
    "kf1 = KFold(n_splits=n)\n",
    "kf2 = KFold(n_splits=n)\n",
    "for train, test in kf1.split(X_pos):\n",
    "    for train1, test1 in kf2.split(X_neg):\n",
    "        print(\"%s %s %s %s\" % (train, test, train1, test1))"
   ]
  }
 ],
 "metadata": {
  "kernelspec": {
   "display_name": "Python 3",
   "language": "python",
   "name": "python3"
  },
  "language_info": {
   "codemirror_mode": {
    "name": "ipython",
    "version": 3
   },
   "file_extension": ".py",
   "mimetype": "text/x-python",
   "name": "python",
   "nbconvert_exporter": "python",
   "pygments_lexer": "ipython3",
   "version": "3.11.0"
  }
 },
 "nbformat": 4,
 "nbformat_minor": 2
}
